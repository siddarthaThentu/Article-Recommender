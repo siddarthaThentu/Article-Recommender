{
 "metadata": {
  "language_info": {
   "codemirror_mode": {
    "name": "ipython",
    "version": 3
   },
   "file_extension": ".py",
   "mimetype": "text/x-python",
   "name": "python",
   "nbconvert_exporter": "python",
   "pygments_lexer": "ipython3",
   "version": "3.8.3-final"
  },
  "orig_nbformat": 2,
  "kernelspec": {
   "name": "python3",
   "display_name": "Python 3",
   "language": "python"
  }
 },
 "nbformat": 4,
 "nbformat_minor": 2,
 "cells": [
  {
   "cell_type": "code",
   "execution_count": 94,
   "metadata": {},
   "outputs": [],
   "source": [
    "import numpy as np\n",
    "import pandas as pd\n",
    "import matplotlib.pyplot as plt\n",
    "import tests as t\n",
    "from scipy.sparse import csr_matrix\n",
    "from IPython.display import HTML\n",
    "\n",
    "\n",
    "%matplotlib inline\n",
    "\n",
    "# Read in the datasets\n",
    "movies = pd.read_csv('movies_clean.csv')\n",
    "reviews = pd.read_csv('reviews_clean.csv')\n",
    "\n",
    "del movies['Unnamed: 0']\n",
    "del reviews['Unnamed: 0']"
   ]
  },
  {
   "cell_type": "code",
   "execution_count": 2,
   "metadata": {},
   "outputs": [
    {
     "output_type": "execute_result",
     "data": {
      "text/plain": [
       "   user_id  movie_id  rating\n",
       "0        1     68646      10\n",
       "1        1    113277      10\n",
       "2        2    422720       8\n",
       "3        2    454876       8\n",
       "4        2    790636       7"
      ],
      "text/html": "<div>\n<style scoped>\n    .dataframe tbody tr th:only-of-type {\n        vertical-align: middle;\n    }\n\n    .dataframe tbody tr th {\n        vertical-align: top;\n    }\n\n    .dataframe thead th {\n        text-align: right;\n    }\n</style>\n<table border=\"1\" class=\"dataframe\">\n  <thead>\n    <tr style=\"text-align: right;\">\n      <th></th>\n      <th>user_id</th>\n      <th>movie_id</th>\n      <th>rating</th>\n    </tr>\n  </thead>\n  <tbody>\n    <tr>\n      <th>0</th>\n      <td>1</td>\n      <td>68646</td>\n      <td>10</td>\n    </tr>\n    <tr>\n      <th>1</th>\n      <td>1</td>\n      <td>113277</td>\n      <td>10</td>\n    </tr>\n    <tr>\n      <th>2</th>\n      <td>2</td>\n      <td>422720</td>\n      <td>8</td>\n    </tr>\n    <tr>\n      <th>3</th>\n      <td>2</td>\n      <td>454876</td>\n      <td>8</td>\n    </tr>\n    <tr>\n      <th>4</th>\n      <td>2</td>\n      <td>790636</td>\n      <td>7</td>\n    </tr>\n  </tbody>\n</table>\n</div>"
     },
     "metadata": {},
     "execution_count": 2
    }
   ],
   "source": [
    "user_items = reviews[['user_id', 'movie_id', 'rating']]\n",
    "user_items.head()"
   ]
  },
  {
   "cell_type": "code",
   "execution_count": 3,
   "metadata": {},
   "outputs": [],
   "source": [
    "user_by_movie = user_items.groupby(['user_id','movie_id'])['rating'].max().unstack()"
   ]
  },
  {
   "cell_type": "code",
   "execution_count": 4,
   "metadata": {},
   "outputs": [
    {
     "output_type": "stream",
     "name": "stdout",
     "text": [
      "Looks like you are all set! Proceed!\n"
     ]
    },
    {
     "output_type": "execute_result",
     "data": {
      "text/plain": [
       "<IPython.core.display.HTML object>"
      ],
      "text/html": "<img src=\"images/greatjob.webp\">"
     },
     "metadata": {},
     "execution_count": 4
    }
   ],
   "source": [
    "assert movies.shape[0] == user_by_movie.shape[1], \"Oh no! Your matrix should have {} columns, and yours has {}!\".format(movies.shape[0], user_by_movie.shape[1])\n",
    "assert reviews.user_id.nunique() == user_by_movie.shape[0], \"Oh no! Your matrix should have {} rows, and yours has {}!\".format(reviews.user_id.nunique(), user_by_movie.shape[0])\n",
    "print(\"Looks like you are all set! Proceed!\")\n",
    "HTML('<img src=\"images/greatjob.webp\">')"
   ]
  },
  {
   "cell_type": "code",
   "execution_count": 43,
   "metadata": {},
   "outputs": [
    {
     "output_type": "execute_result",
     "data": {
      "text/plain": [
       "(53968,)"
      ]
     },
     "metadata": {},
     "execution_count": 43
    }
   ],
   "source": [
    "#list(user_by_movie.iloc[0][user_by_movie.iloc[0].isnull() == False].index.values)\r\n",
    "user_by_movie.index.values.shape"
   ]
  },
  {
   "cell_type": "code",
   "execution_count": 45,
   "metadata": {},
   "outputs": [],
   "source": [
    "def movies_watched(user_id):\n",
    "    '''\n",
    "    INPUT:\n",
    "    user_id - the user_id of an individual as int\n",
    "    OUTPUT:\n",
    "    movies - an array of movies the user has watched\n",
    "    '''\n",
    "    movies = list(user_by_movie.iloc[user_id-1][user_by_movie.iloc[user_id-1].isnull() == False].index.values)\n",
    "\n",
    "    return movies\n",
    "\n",
    "\n",
    "def create_user_movie_dict():\n",
    "    '''\n",
    "    INPUT: None\n",
    "    OUTPUT: movies_seen - a dictionary where each key is a user_id and the value is an array of movie_ids\n",
    "    \n",
    "    Creates the movies_seen dictionary\n",
    "    '''\n",
    "    movies_seen = dict()\n",
    "\n",
    "    for eachUser in list(user_by_movie.index.values):\n",
    "        movies_seen[eachUser] = movies_watched(eachUser)\n",
    "    \n",
    "    return movies_seen\n",
    "\n",
    "\n",
    "# Use your function to return dictionary\n",
    "movies_seen = create_user_movie_dict()"
   ]
  },
  {
   "cell_type": "code",
   "execution_count": 47,
   "metadata": {},
   "outputs": [
    {
     "output_type": "execute_result",
     "data": {
      "text/plain": [
       "53968"
      ]
     },
     "metadata": {},
     "execution_count": 47
    }
   ],
   "source": [
    "len(movies_seen)"
   ]
  },
  {
   "cell_type": "code",
   "execution_count": 50,
   "metadata": {},
   "outputs": [],
   "source": [
    "# Remove individuals who have watched 2 or fewer movies - don't have enough data #to make recs\n",
    "\n",
    "def create_movies_to_analyze(movies_seen, lower_bound=2):\n",
    "    '''\n",
    "    INPUT:  \n",
    "    movies_seen - a dictionary where each key is a user_id and the value is an array of movie_ids\n",
    "    lower_bound - (an int) a user must have more movies seen than the lower bound to be added to the movies_to_analyze dictionary\n",
    "\n",
    "    OUTPUT: \n",
    "    movies_to_analyze - a dictionary where each key is a user_id and the value is an array of movie_ids\n",
    "    \n",
    "    The movies_seen and movies_to_analyze dictionaries should be the same except that the output dictionary has removed \n",
    "    \n",
    "    '''\n",
    "    movies_to_analyze = dict()\n",
    "\n",
    "    # Do things to create updated dictionary\n",
    "    for user_id,movies_list in movies_seen.items():\n",
    "        if(len(movies_list)>lower_bound):\n",
    "            movies_to_analyze[user_id] = movies_list\n",
    "\n",
    "    return movies_to_analyze\n",
    "\n",
    "\n",
    "# Use your function to return your updated dictionary\n",
    "movies_to_analyze = create_movies_to_analyze(movies_seen)"
   ]
  },
  {
   "cell_type": "code",
   "execution_count": 52,
   "metadata": {},
   "outputs": [],
   "source": [
    "#movies_to_analyze"
   ]
  },
  {
   "cell_type": "code",
   "execution_count": 53,
   "metadata": {},
   "outputs": [
    {
     "output_type": "stream",
     "name": "stdout",
     "text": [
      "If this is all you see, you are good to go!\n"
     ]
    }
   ],
   "source": [
    "assert len(movies_to_analyze) == 23512, \"Oops!  It doesn't look like your dictionary has the right number of individuals.\"\n",
    "assert len(movies_to_analyze[2]) == 23, \"Oops!  User 2 didn't match the number of movies we thought they would have.\"\n",
    "assert len(movies_to_analyze[7])  == 3, \"Oops!  User 7 didn't match the number of movies we thought they would have.\"\n",
    "print(\"If this is all you see, you are good to go!\")"
   ]
  },
  {
   "cell_type": "code",
   "execution_count": 72,
   "metadata": {},
   "outputs": [],
   "source": [
    "def compute_correlation(user1, user2):\n",
    "    '''\n",
    "    INPUT\n",
    "    user1 - int user_id\n",
    "    user2 - int user_id\n",
    "    OUTPUT\n",
    "    the correlation between the matching ratings between the two users\n",
    "    '''\n",
    "    movies_user1 = movies_to_analyze[user1]\n",
    "    movies_user2 = movies_to_analyze[user2]\n",
    "\n",
    "    sim_movies = np.intersect1d(movies_user1,movies_user2)\n",
    "\n",
    "    temp_df = user_by_movie.loc[(user1,user2),sim_movies]\n",
    "\n",
    "    corr = temp_df.T.corr().iloc[0,1]\n",
    "  \n",
    "    return corr,sim_movies #return the correlation"
   ]
  },
  {
   "cell_type": "code",
   "execution_count": 68,
   "metadata": {},
   "outputs": [
    {
     "output_type": "execute_result",
     "data": {
      "text/plain": [
       "user_id   1   3\n",
       "user_id        \n",
       "1       NaN NaN\n",
       "3       NaN NaN"
      ],
      "text/html": "<div>\n<style scoped>\n    .dataframe tbody tr th:only-of-type {\n        vertical-align: middle;\n    }\n\n    .dataframe tbody tr th {\n        vertical-align: top;\n    }\n\n    .dataframe thead th {\n        text-align: right;\n    }\n</style>\n<table border=\"1\" class=\"dataframe\">\n  <thead>\n    <tr style=\"text-align: right;\">\n      <th>user_id</th>\n      <th>1</th>\n      <th>3</th>\n    </tr>\n    <tr>\n      <th>user_id</th>\n      <th></th>\n      <th></th>\n    </tr>\n  </thead>\n  <tbody>\n    <tr>\n      <th>1</th>\n      <td>NaN</td>\n      <td>NaN</td>\n    </tr>\n    <tr>\n      <th>3</th>\n      <td>NaN</td>\n      <td>NaN</td>\n    </tr>\n  </tbody>\n</table>\n</div>"
     },
     "metadata": {},
     "execution_count": 68
    }
   ],
   "source": [
    "#sample_df = user_by_movie.loc[(1,3),[8,10,12]]\n",
    "#sample_df.T.corr().iloc[0,1]"
   ]
  },
  {
   "cell_type": "code",
   "execution_count": 71,
   "metadata": {},
   "outputs": [
    {
     "output_type": "stream",
     "name": "stdout",
     "text": [
      "If this is all you see, then it looks like your function passed all of our tests!\n"
     ]
    }
   ],
   "source": [
    "# Test your function against the solution\n",
    "assert compute_correlation(2,2) == 1.0, \"Oops!  The correlation between a user and itself should be 1.0.\"\n",
    "assert round(compute_correlation(2,66), 2) == 0.76, \"Oops!  The correlation between user 2 and 66 should be about 0.76.\"\n",
    "assert np.isnan(compute_correlation(2,104)), \"Oops!  The correlation between user 2 and 104 should be a NaN.\"\n",
    "\n",
    "print(\"If this is all you see, then it looks like your function passed all of our tests!\")"
   ]
  },
  {
   "cell_type": "code",
   "execution_count": 73,
   "metadata": {},
   "outputs": [
    {
     "output_type": "stream",
     "name": "stdout",
     "text": [
      "nan\n[ 454876  816711 1454468 1535109]\n"
     ]
    }
   ],
   "source": [
    "corr,movies = compute_correlation(2,104)\n",
    "print(corr)\n",
    "print(movies)"
   ]
  },
  {
   "cell_type": "code",
   "execution_count": 74,
   "metadata": {},
   "outputs": [
    {
     "output_type": "execute_result",
     "data": {
      "text/plain": [
       "movie_id  454876   816711   1454468  1535109\n",
       "user_id                                     \n",
       "2             8.0      8.0      8.0      8.0\n",
       "104           9.0      7.0      7.0      9.0"
      ],
      "text/html": "<div>\n<style scoped>\n    .dataframe tbody tr th:only-of-type {\n        vertical-align: middle;\n    }\n\n    .dataframe tbody tr th {\n        vertical-align: top;\n    }\n\n    .dataframe thead th {\n        text-align: right;\n    }\n</style>\n<table border=\"1\" class=\"dataframe\">\n  <thead>\n    <tr style=\"text-align: right;\">\n      <th>movie_id</th>\n      <th>454876</th>\n      <th>816711</th>\n      <th>1454468</th>\n      <th>1535109</th>\n    </tr>\n    <tr>\n      <th>user_id</th>\n      <th></th>\n      <th></th>\n      <th></th>\n      <th></th>\n    </tr>\n  </thead>\n  <tbody>\n    <tr>\n      <th>2</th>\n      <td>8.0</td>\n      <td>8.0</td>\n      <td>8.0</td>\n      <td>8.0</td>\n    </tr>\n    <tr>\n      <th>104</th>\n      <td>9.0</td>\n      <td>7.0</td>\n      <td>7.0</td>\n      <td>9.0</td>\n    </tr>\n  </tbody>\n</table>\n</div>"
     },
     "metadata": {},
     "execution_count": 74
    }
   ],
   "source": [
    "user_by_movie.loc[(2,104),movies]"
   ]
  },
  {
   "cell_type": "code",
   "execution_count": 76,
   "metadata": {},
   "outputs": [],
   "source": [
    "def compute_euclidean_dist(user1, user2):\n",
    "    '''\n",
    "    INPUT\n",
    "    user1 - int user_id\n",
    "    user2 - int user_id\n",
    "    OUTPUT\n",
    "    the euclidean distance between user1 and user2\n",
    "    '''\n",
    "    movies_user1 = movies_to_analyze[user1]\n",
    "    movies_user2 = movies_to_analyze[user2]\n",
    "\n",
    "    sim_movies = np.intersect1d(movies_user1,movies_user2)\n",
    "\n",
    "    temp_df = user_by_movie.loc[(user1,user2),sim_movies]\n",
    "\n",
    "    dist = np.linalg.norm(temp_df.iloc[0].values-temp_df.iloc[1].values)\n",
    "\n",
    "    return dist #return the euclidean distance"
   ]
  },
  {
   "cell_type": "code",
   "execution_count": 78,
   "metadata": {},
   "outputs": [],
   "source": [
    "import pickle\n",
    "df_dists = pd.read_pickle(\"dists.p\")"
   ]
  },
  {
   "cell_type": "code",
   "execution_count": 79,
   "metadata": {},
   "outputs": [
    {
     "output_type": "stream",
     "name": "stdout",
     "text": [
      "If this is all you see, then it looks like your function passed all of our tests!\n"
     ]
    }
   ],
   "source": [
    "assert compute_euclidean_dist(2,2) == df_dists.query(\"user1 == 2 and user2 == 2\")['eucl_dist'][0], \"Oops!  The distance between a user and itself should be 0.0.\"\n",
    "assert round(compute_euclidean_dist(2,66), 2) == round(df_dists.query(\"user1 == 2 and user2 == 66\")['eucl_dist'][1], 2), \"Oops!  The distance between user 2 and 66 should be about 2.24.\"\n",
    "assert np.isnan(compute_euclidean_dist(2,104)) == np.isnan(df_dists.query(\"user1 == 2 and user2 == 104\")['eucl_dist'][4]), \"Oops!  The distance between user 2 and 104 should be 2.\"\n",
    "\n",
    "print(\"If this is all you see, then it looks like your function passed all of our tests!\")"
   ]
  },
  {
   "cell_type": "code",
   "execution_count": 83,
   "metadata": {},
   "outputs": [
    {
     "output_type": "execute_result",
     "data": {
      "text/plain": [
       "   user1  user2  eucl_dist\n",
       "0      2      2   0.000000\n",
       "1      2     66   2.236068\n",
       "2      2     90   5.385165\n",
       "3      2     99   2.828427\n",
       "4      2    104   2.000000"
      ],
      "text/html": "<div>\n<style scoped>\n    .dataframe tbody tr th:only-of-type {\n        vertical-align: middle;\n    }\n\n    .dataframe tbody tr th {\n        vertical-align: top;\n    }\n\n    .dataframe thead th {\n        text-align: right;\n    }\n</style>\n<table border=\"1\" class=\"dataframe\">\n  <thead>\n    <tr style=\"text-align: right;\">\n      <th></th>\n      <th>user1</th>\n      <th>user2</th>\n      <th>eucl_dist</th>\n    </tr>\n  </thead>\n  <tbody>\n    <tr>\n      <th>0</th>\n      <td>2</td>\n      <td>2</td>\n      <td>0.000000</td>\n    </tr>\n    <tr>\n      <th>1</th>\n      <td>2</td>\n      <td>66</td>\n      <td>2.236068</td>\n    </tr>\n    <tr>\n      <th>2</th>\n      <td>2</td>\n      <td>90</td>\n      <td>5.385165</td>\n    </tr>\n    <tr>\n      <th>3</th>\n      <td>2</td>\n      <td>99</td>\n      <td>2.828427</td>\n    </tr>\n    <tr>\n      <th>4</th>\n      <td>2</td>\n      <td>104</td>\n      <td>2.000000</td>\n    </tr>\n  </tbody>\n</table>\n</div>"
     },
     "metadata": {},
     "execution_count": 83
    }
   ],
   "source": [
    "df_dists.head(5)"
   ]
  },
  {
   "cell_type": "code",
   "execution_count": 90,
   "metadata": {},
   "outputs": [
    {
     "output_type": "execute_result",
     "data": {
      "text/plain": [
       "array([22915, 34706, 33207, ..., 36807, 32494, 52737], dtype=int64)"
      ]
     },
     "metadata": {},
     "execution_count": 90
    }
   ],
   "source": [
    "df_dists[df_dists['user1']==2][1:].sort_values(by='eucl_dist').user2.values"
   ]
  },
  {
   "cell_type": "code",
   "execution_count": 117,
   "metadata": {},
   "outputs": [],
   "source": [
    "def find_closest_neighbors(user):\n",
    "    '''\n",
    "    INPUT:\n",
    "        user - (int) the user_id of the individual you want to find the closest users\n",
    "    OUTPUT:\n",
    "        closest_neighbors - an array of the id's of the users sorted from closest to farthest away\n",
    "    '''\n",
    "    # I treated ties as arbitrary and just kept whichever was easiest to keep using the head method\n",
    "    # You might choose to do something less hand wavy - order the neighbors\n",
    "    \n",
    "    closest_neighbors = df_dists[df_dists['user1']==user][1:].sort_values(by='eucl_dist').user2.values\n",
    "    \n",
    "    return np.array(closest_neighbors)\n",
    "    \n",
    "    \n",
    "    \n",
    "def movies_liked(user_id, min_rating=7):\n",
    "    '''\n",
    "    INPUT:\n",
    "    user_id - the user_id of an individual as int\n",
    "    min_rating - the minimum rating considered while still a movie is still a \"like\" and not a \"dislike\"\n",
    "    OUTPUT:\n",
    "    movies_liked - an array of movies the user has watched and liked\n",
    "    '''\n",
    "    \n",
    "    movies_liked = np.array(\n",
    "        user_items.query(\"user_id == @user_id and rating >= @min_rating\")       ['movie_id'])\n",
    "    \n",
    "    return movies_liked\n",
    "\n",
    "\n",
    "def movie_names(movie_ids):\n",
    "    '''\n",
    "    INPUT\n",
    "    movie_ids - a list of movie_ids\n",
    "    OUTPUT\n",
    "    movies - a list of movie names associated with the movie_ids\n",
    "    \n",
    "    '''\n",
    "    movie_lst = list(movies[movies['movie_id'].isin(movie_ids)]['movie'])\n",
    "   \n",
    "    return movie_lst\n",
    "\n",
    "def make_recommendations(user, num_recs=10):\n",
    "    '''\n",
    "    INPUT:\n",
    "        user - (int) a user_id of the individual you want to make recommendations for\n",
    "        num_recs - (int) number of movies to return\n",
    "    OUTPUT:\n",
    "        recommendations - a list of movies - if there are \"num_recs\" recommendations return this many\n",
    "                          otherwise return the total number of recommendations available for the \"user\"\n",
    "                          which may just be an empty list\n",
    "    '''\n",
    "    movies_seen = movies_watched(user)\n",
    "    neighbours = find_closest_neighbors(user)\n",
    "\n",
    "    recs = np.array([])\n",
    "\n",
    "    for neighbour in neighbours:\n",
    "        neighbour_movies = movies_liked(neighbour)\n",
    "        new_recs = np.setdiff1d(neighbour_movies,movies_seen)\n",
    "        recs = np.unique(np.concatenate([new_recs,recs],axis=0))\n",
    "        \n",
    "        if(len(recs)>num_recs-1):\n",
    "            break\n",
    "    \n",
    "    recommendations = movie_names(recs)\n",
    "    \n",
    "    return recommendations\n",
    "\n",
    "def all_recommendations(num_recs=10):\n",
    "    '''\n",
    "    INPUT \n",
    "        num_recs (int) the (max) number of recommendations for each user\n",
    "    OUTPUT\n",
    "        all_recs - a dictionary where each key is a user_id and the value is an array of recommended movie titles\n",
    "    '''\n",
    "    all_recs = dict()\n",
    "\n",
    "    # Make the recommendations for each user\n",
    "    for user_id in list(user_by_movie.index.values):\n",
    "        recomm = make_recommendations(user_id,num_recs)\n",
    "        all_recs[user_id] = recomm\n",
    "\n",
    "    return all_recs\n",
    "\n"
   ]
  },
  {
   "cell_type": "code",
   "execution_count": 118,
   "metadata": {},
   "outputs": [],
   "source": [
    "all_recs = all_recommendations(10)"
   ]
  },
  {
   "cell_type": "code",
   "execution_count": 98,
   "metadata": {},
   "outputs": [],
   "source": [
    "all_recs_sol = pd.read_pickle(\"all_recs.p\")"
   ]
  },
  {
   "cell_type": "code",
   "execution_count": 119,
   "metadata": {},
   "outputs": [
    {
     "output_type": "stream",
     "name": "stdout",
     "text": [
      "If you made it here, you now have recommendations for many users using collaborative filtering!\n"
     ]
    },
    {
     "output_type": "execute_result",
     "data": {
      "text/plain": [
       "<IPython.core.display.HTML object>"
      ],
      "text/html": "<img src=\"images/greatjob.webp\">"
     },
     "metadata": {},
     "execution_count": 119
    }
   ],
   "source": [
    "assert all_recs[2] == make_recommendations(2), \"Oops!  Your recommendations for user 2 didn't match ours.\"\n",
    "assert all_recs[26] == make_recommendations(26), \"Oops!  It actually wasn't possible to make any recommendations for user 26.\"\n",
    "assert all_recs[1503] == make_recommendations(1503), \"Oops! Looks like your solution for user 1503 didn't match ours.\"\n",
    "print(\"If you made it here, you now have recommendations for many users using collaborative filtering!\")\n",
    "HTML('<img src=\"images/greatjob.webp\">')"
   ]
  },
  {
   "cell_type": "code",
   "execution_count": 129,
   "metadata": {},
   "outputs": [
    {
     "output_type": "execute_result",
     "data": {
      "text/plain": [
       "['His Majesty, the Scarecrow of Oz (1914)',\n",
       " 'Three Ages (1923)',\n",
       " 'The Navigator (1924)',\n",
       " 'The Sea Hawk (1924)',\n",
       " 'Sherlock Jr. (1924)',\n",
       " 'The Thief of Bagdad (1924)',\n",
       " 'The Cocoanuts (1929)',\n",
       " 'Frau im Mond (1929)',\n",
       " 'The Mummy (1932)',\n",
       " 'The Black Cat (1934)',\n",
       " 'The Lady Vanishes (1938)',\n",
       " 'The Green Hornet (1940)',\n",
       " 'The Mark of Zorro (1940)',\n",
       " \"The Mummy's Hand (1940)\",\n",
       " 'The Ghost of Frankenstein (1942)',\n",
       " 'Lifeboat (1944)',\n",
       " \"The Mummy's Ghost (1944)\",\n",
       " 'Along Came Jones (1945)',\n",
       " 'Miracle on 34th Street (1947)',\n",
       " 'On an Island with You (1948)',\n",
       " 'Destination Moon (1950)',\n",
       " 'The Man from Planet X (1951)',\n",
       " 'The Lusty Men (1952)',\n",
       " \"Pluto's Christmas Tree (1952)\",\n",
       " 'Dial M for Murder (1954)',\n",
       " 'Gojira (1954)',\n",
       " 'The Curse of Frankenstein (1957)',\n",
       " 'Taste of Fear (1961)',\n",
       " 'Dr. No (1962)',\n",
       " 'First Men in the Moon (1964)',\n",
       " 'The Gorgon (1964)',\n",
       " 'In the Heat of the Night (1967)',\n",
       " 'Kingu Kongu no gyakushû (1967)',\n",
       " 'The Devil Rides Out (1968)',\n",
       " 'The Lost Continent (1968)',\n",
       " 'The Poseidon Adventure (1972)',\n",
       " 'Murder by Death (1976)',\n",
       " 'Close Encounters of the Third Kind (1977)',\n",
       " 'Hausu (1977)',\n",
       " 'Alien (1979)',\n",
       " 'Beyond the Poseidon Adventure (1979)',\n",
       " 'Star Trek: The Motion Picture (1979)',\n",
       " 'First Blood (1982)',\n",
       " 'Savannah Smiles (1982)',\n",
       " 'Star Trek: The Wrath of Khan (1982)',\n",
       " \"Mickey's Christmas Carol (1983)\",\n",
       " 'Star Trek III: The Search for Spock (1984)',\n",
       " 'The Terminator (1984)',\n",
       " 'Back to the Future (1985)',\n",
       " 'Commando (1985)',\n",
       " 'Gotcha! (1985)',\n",
       " \"Rustlers' Rhapsody (1985)\",\n",
       " 'Aliens (1986)',\n",
       " 'House (1986)',\n",
       " 'Star Trek IV: The Voyage Home (1986)',\n",
       " 'Adventures in Babysitting (1987)',\n",
       " 'House II: The Second Story (1987)',\n",
       " 'The Lost Boys (1987)',\n",
       " 'Predator (1987)',\n",
       " 'Crusoe (1988)',\n",
       " 'Die Hard (1988)',\n",
       " 'Without a Clue (1988)',\n",
       " 'The Abyss (1989)',\n",
       " 'Gojira vs. Kingu Gidorâ (1991)',\n",
       " 'Star Trek VI: The Undiscovered Country (1991)',\n",
       " 'Kurenai no buta (1992)',\n",
       " 'The Last of the Mohicans (1992)',\n",
       " 'Demolition Man (1993)',\n",
       " 'Miracle on 34th Street (1994)',\n",
       " 'Before Sunrise (1995)',\n",
       " 'Gojira vs. Desutoroiâ (1995)',\n",
       " 'As Good as It Gets (1997)',\n",
       " 'Star Wars: Episode I - The Phantom Menace (1999)',\n",
       " 'The Iron Giant (1999)',\n",
       " '10 Things I Hate About You (1999)',\n",
       " 'Sleepy Hollow (1999)',\n",
       " 'The Sixth Sense (1999)',\n",
       " 'The Patriot (2000)',\n",
       " 'Gojira ni-sen mireniamu (1999)',\n",
       " 'Unbreakable (2000)',\n",
       " 'Gojira, Mosura, Kingu Gidorâ: Daikaijû sôkôgeki (2001)',\n",
       " 'Signs (2002)',\n",
       " 'Gojira tai Mekagojira (2002)',\n",
       " 'Love Actually (2003)',\n",
       " 'Underworld (2003)',\n",
       " '2 Fast 2 Furious (2003)',\n",
       " 'The Ladykillers (2004)',\n",
       " 'Sky Captain and the World of Tomorrow (2004)',\n",
       " 'The Secret Life of Walter Mitty (2013)',\n",
       " 'Gojira tai Mosura tai Mekagojira: Tôkyô S.O.S. (2003)',\n",
       " 'The Jacket (2005)',\n",
       " 'AVP: Alien vs. Predator (2004)',\n",
       " 'Before Sunset (2004)',\n",
       " 'John Carter (2012)',\n",
       " 'Æon Flux (2005)',\n",
       " 'Poseidon (2006)',\n",
       " \"The Pirates Who Don't Do Anything: A VeggieTales Movie (2008)\",\n",
       " 'The Croods (2013)',\n",
       " 'Jack Reacher (2012)',\n",
       " 'Godzilla (2014)',\n",
       " 'Cloudy with a Chance of Meatballs (2009)',\n",
       " 'How to Train Your Dragon (2010)',\n",
       " 'The Hobbit: An Unexpected Journey (2012)',\n",
       " 'Un monstre à Paris (2011)',\n",
       " 'Solomon Kane (2009)',\n",
       " 'Fast & Furious (2009)',\n",
       " 'Selma (2014)',\n",
       " 'Män som hatar kvinnor (2009)',\n",
       " 'Låt den rätte komma in (2008)',\n",
       " 'The Hobbit: The Desolation of Smaug (2013)',\n",
       " 'Jack Ryan: Shadow Recruit (2014)',\n",
       " 'This Is the End (2013)',\n",
       " 'X-Men: First Class (2011)',\n",
       " '2 Guns (2013)',\n",
       " 'Easy A (2010)',\n",
       " 'Iron Man 3 (2013)',\n",
       " 'Rise of the Planet of the Apes (2011)',\n",
       " 'Tomb Raider (2018)',\n",
       " 'The Hunger Games (2012)',\n",
       " 'Journey 2: The Mysterious Island (2012)',\n",
       " 'Star Trek Into Darkness (2013)',\n",
       " 'Predators (2010)',\n",
       " 'The Pirates! In an Adventure with Scientists! (2012)',\n",
       " 'Monsters University (2013)',\n",
       " 'The Conjuring (2013)',\n",
       " 'Attack the Block (2011)',\n",
       " 'The Raven (2012)',\n",
       " 'The Lego Movie (2014)',\n",
       " 'G.I. Joe: Retaliation (2013)',\n",
       " 'Maleficent (2014)',\n",
       " 'Fast Five (2011)',\n",
       " 'Le moine (2011)',\n",
       " 'Kon-Tiki (2012)',\n",
       " 'How to Train Your Dragon 2 (2014)',\n",
       " 'Goodbye Christopher Robin (2017)',\n",
       " 'The Perks of Being a Wallflower (2012)',\n",
       " 'Fun Size (2012)',\n",
       " 'Pacific Rim (2013)',\n",
       " 'Stoker (2013)',\n",
       " 'Creature (2011)',\n",
       " 'The Spectacular Now (2013)',\n",
       " 'The Way, Way Back (2013)',\n",
       " 'Wreck-It Ralph (2012)',\n",
       " 'American Hustle (2013)',\n",
       " 'Nebraska (2013)',\n",
       " 'Red 2 (2013)',\n",
       " 'Black Panther (2018)',\n",
       " 'Captain America: The Winter Soldier (2014)',\n",
       " 'X-Men: Days of Future Past (2014)',\n",
       " 'Fast & Furious 6 (2013)',\n",
       " 'Mud (2012)',\n",
       " 'The Hunger Games: Catching Fire (2013)',\n",
       " 'Noah (2014)',\n",
       " 'Pain & Gain (2013)',\n",
       " 'Begin Again (2013)',\n",
       " 'Thor: The Dark World (2013)',\n",
       " 'Cloudy with a Chance of Meatballs 2 (2013)',\n",
       " 'Neighbors (2014)',\n",
       " 'Grand Piano (2013)',\n",
       " 'Europa Report (2013)',\n",
       " 'Much Ado About Nothing (2012)',\n",
       " 'Saving Mr. Banks (2013)',\n",
       " 'The Kings of Summer (2013)',\n",
       " 'About Time (2013)',\n",
       " 'Drinking Buddies (2013)',\n",
       " 'The Grand Budapest Hotel (2014)',\n",
       " 'Muppets Most Wanted (2014)',\n",
       " '22 Jump Street (2014)',\n",
       " 'In a World... (2013)',\n",
       " 'Homefront (2013)',\n",
       " 'Blue Jasmine (2013)',\n",
       " 'Joe (2013)',\n",
       " 'The Heat (2013)',\n",
       " 'Pacific Rim: Uprising (2018)',\n",
       " 'Game Night (2018)',\n",
       " 'Avengers: Infinity War (2018)',\n",
       " 'The Ballad of Lefty Brown (2017)',\n",
       " 'American Folk (2017)',\n",
       " 'Meari to majo no hana (2017)',\n",
       " \"Won't You Be My Neighbor? (2018)\"]"
      ]
     },
     "metadata": {},
     "execution_count": 129
    }
   ],
   "source": [
    "all_recs[2]"
   ]
  },
  {
   "cell_type": "code",
   "execution_count": 130,
   "metadata": {},
   "outputs": [
    {
     "output_type": "execute_result",
     "data": {
      "text/plain": [
       "['Philadelphia (1993)',\n",
       " 'Training Day (2001)',\n",
       " 'About Schmidt (2002)',\n",
       " 'Insomnia (2002)',\n",
       " 'The United States of Leland (2003)',\n",
       " 'Shattered Glass (2003)',\n",
       " 'Man on Fire (2004)',\n",
       " 'Flipped (2010)',\n",
       " 'Silver Linings Playbook (2012)',\n",
       " 'Lawless (2012)',\n",
       " '50/50 (2011)',\n",
       " 'Crazy, Stupid, Love. (2011)',\n",
       " 'The Perks of Being a Wallflower (2012)',\n",
       " 'Before I Go to Sleep (2014)',\n",
       " 'Zero Dark Thirty (2012)',\n",
       " 'American Hustle (2013)',\n",
       " 'Django Unchained (2012)',\n",
       " 'Side Effects (2013)',\n",
       " 'Gone Girl (2014)',\n",
       " 'Enough Said (2013)',\n",
       " 'Nightcrawler (2014)']"
      ]
     },
     "metadata": {},
     "execution_count": 130
    }
   ],
   "source": [
    "all_recs_sol[2]"
   ]
  },
  {
   "cell_type": "code",
   "execution_count": 125,
   "metadata": {},
   "outputs": [
    {
     "output_type": "execute_result",
     "data": {
      "text/plain": [
       "\"That's right! All of your solutions look good!\""
      ]
     },
     "metadata": {},
     "execution_count": 125
    }
   ],
   "source": [
    "# Check your understanding of the results by correctly filling in the dictionary below\n",
    "a = \"pearson's correlation and spearman's correlation\"\n",
    "b = 'item based collaborative filtering'\n",
    "c = \"there were too many ratings to get a stable metric\"\n",
    "d = 'user based collaborative filtering'\n",
    "e = \"euclidean distance and pearson's correlation coefficient\"\n",
    "f = \"manhattan distance and euclidean distance\"\n",
    "g = \"spearman's correlation and euclidean distance\"\n",
    "h = \"the spread in some ratings was zero\"\n",
    "i = 'content based recommendation'\n",
    "\n",
    "sol_dict = {\n",
    "    'The type of recommendation system implemented here was a ...': d,\n",
    "    'The two methods used to estimate user similarity were: ': e,\n",
    "    'There was an issue with using the correlation coefficient.  What was it?': h\n",
    "}\n",
    "\n",
    "t.test_recs(sol_dict)"
   ]
  },
  {
   "cell_type": "code",
   "execution_count": null,
   "metadata": {},
   "outputs": [],
   "source": [
    "a = 567\n",
    "b = 1503\n",
    "c = 1319\n",
    "d = 1325\n",
    "e = 2526710\n",
    "f = 0\n",
    "g = 'Use another method to make recommendations - content based, knowledge based, or model based collaborative filtering'\n",
    "\n",
    "sol_dict2 = {\n",
    "    'For how many pairs of users were we not able to obtain a measure of similarity using correlation?': # letter here,\n",
    "    'For how many pairs of users were we not able to obtain a measure of similarity using euclidean distance?': # letter here,\n",
    "    'For how many users were we unable to make any recommendations for using collaborative filtering?': # letter here,\n",
    "    'For how many users were we unable to make 10 recommendations for using collaborative filtering?': # letter here,\n",
    "    'What might be a way for us to get 10 recommendations for every user?': # letter here   \n",
    "}\n",
    "\n",
    "t.test_recs2(sol_dict2)"
   ]
  },
  {
   "cell_type": "code",
   "execution_count": 126,
   "metadata": {},
   "outputs": [
    {
     "output_type": "stream",
     "name": "stdout",
     "text": [
      "32032\n"
     ]
    }
   ],
   "source": [
    "no_rec = []\n",
    "\n",
    "for user_id,movie_list in all_recs.items():\n",
    "    if(len(movie_list)==0):\n",
    "        no_rec.append(user_id)\n",
    "\n",
    "print(len(no_rec))"
   ]
  },
  {
   "cell_type": "code",
   "execution_count": 127,
   "metadata": {},
   "outputs": [
    {
     "output_type": "execute_result",
     "data": {
      "text/plain": [
       "53968"
      ]
     },
     "metadata": {},
     "execution_count": 127
    }
   ],
   "source": [
    "len(all_recs)"
   ]
  },
  {
   "cell_type": "code",
   "execution_count": null,
   "metadata": {},
   "outputs": [],
   "source": []
  }
 ]
}